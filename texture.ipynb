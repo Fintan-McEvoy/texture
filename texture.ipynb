{
 "cells": [
  {
   "cell_type": "markdown",
   "id": "d109e029",
   "metadata": {},
   "source": [
    "### This code which rus on python 3 accompanies the paper \"A survey of  testicular texture on canine ultrasound images\" Submitted to Frontiers in Veterinary Science\" Panida Pongvittayanon et al.2023."
   ]
  },
  {
   "cell_type": "markdown",
   "id": "551197a0",
   "metadata": {},
   "source": [
    "If this juyter notebook is run on a local machine, the notebook file \"texture.ipynb\"  and the directory \"images\", containing  one or more images files (in \"png\" format) should be present in the same directory.  The code will generate an output file called \"output.csv\" containg the texture anaysis results and a \"png\" image file which shows the ROI selected data."
   ]
  },
  {
   "cell_type": "markdown",
   "id": "0b73e174",
   "metadata": {},
   "source": [
    "The cell below imports the python modules required for the texture analysis."
   ]
  },
  {
   "cell_type": "code",
   "execution_count": null,
   "id": "fc1d5cd6",
   "metadata": {},
   "outputs": [],
   "source": [
    "import cv2\n",
    "import csv\n",
    "from csv import writer\n",
    "import os\n",
    "import skimage\n",
    "import skimage.measure\n",
    "\n",
    "\n",
    "from skimage.io import imread\n",
    "from skimage import io\n",
    "from skimage.feature import greycomatrix\n",
    "from skimage.feature import greycoprops\n",
    "\n",
    "from skimage.transform import integral_image\n"
   ]
  },
  {
   "cell_type": "markdown",
   "id": "fa416557",
   "metadata": {},
   "source": [
    "The cell below checks if an output file \"output.csv\"  exists, if it does data from the images analysis of will be appended to it. Ifthe file does not exist , it is created as a blank csv file with headers."
   ]
  },
  {
   "cell_type": "code",
   "execution_count": null,
   "id": "26f71bfe",
   "metadata": {},
   "outputs": [],
   "source": [
    "home = os.getcwd()\n",
    "\n",
    "if not os.path.exists(home+'/output.csv'):\n",
    "    print('No output file exists, it will be created and called output.csv')\n",
    "    f = open('output.csv', 'w')\n",
    "  \n",
    "    # create the csv writer\n",
    "    writer_head = csv.writer(f)\n",
    "    header=['file_name','entropy','ASM','contrast','energy','dissimilarity','correlation','homogeneity','roi_1','roi_3','roi_0','roi_2','dynamic_range','depth','nodule_present','mineralization_present','comment']\n",
    "    # write the header\n",
    "    writer_head.writerow(header)\n",
    "\n",
    "    # close the file\n",
    "    f.close()\n"
   ]
  },
  {
   "cell_type": "markdown",
   "id": "10338ae7",
   "metadata": {},
   "source": [
    "The cell below defines a function \"crop_save_texture\" which opens an image, creates an interface for selecting a region of interest (ROI), runs the texture analysis on that ROI, saves the ROI as an image and save the texture and user input data to a results file called \"output.csv\"."
   ]
  },
  {
   "cell_type": "code",
   "execution_count": null,
   "id": "950bf832",
   "metadata": {},
   "outputs": [],
   "source": [
    "def crop_save_texture(image, image_name):\n",
    "    roi = cv2.selectROI(image)\n",
    "    print(\"Use the mouse to select and ROI, then press enter or return to save the ROI , or press 'c' to cancel.\")\n",
    "    #Crop selected roi from raw image\n",
    "    roi_cropped = image[int(roi[1]):int(roi[1]+roi[3]), int(roi[0]):int(roi[0]+roi[2])]\n",
    "\n",
    "    # Save the cropped image\n",
    "    cv2.imwrite((str(image_name)[0:-4]+'_crop'+'.png'), roi_cropped)\n",
    "\n",
    "    glcm = greycomatrix(roi_cropped, [5], [0], 256, symmetric=True, normed=True)\n",
    "    ts = []\n",
    "    us = []\n",
    "    vs = []\n",
    "    ws = []\n",
    "    xs = []\n",
    "    ys = []\n",
    "    zs = []\n",
    "    ts.append(skimage.measure.shannon_entropy(roi_cropped))\n",
    "    us.append(greycoprops(glcm, 'ASM')[0, 0])    \n",
    "    vs.append(greycoprops(glcm, 'contrast')[0, 0])\n",
    "    ws.append(greycoprops(glcm, 'energy')[0, 0])    \n",
    "    xs.append(greycoprops(glcm, 'dissimilarity')[0, 0])\n",
    "    ys.append(greycoprops(glcm, 'correlation')[0, 0])\n",
    "    zs.append(greycoprops(glcm, 'homogeneity')[0, 0])\n",
    "\n",
    "    feature_type = ['type-2-x', 'type-2-y']\n",
    "    feature_coord= None\n",
    "\n",
    "    dr =input(\"Enter a value for dynamic range: \")\n",
    "    depth = input(\"Enter a value image depth: \")\n",
    "    nodule = input(\"Enter a value for nodule 1 present zero not present: \")\n",
    "    mineral = input(\"Enter a value for mineralization 2 present, zero not present: \")\n",
    "    comment = input(\"Enter an optional free text comment: \")\n",
    "\n",
    "    print(\"entrophy is {}\\n\\\n",
    "    ASM is {}\\n\\\n",
    "    Contrast is {}\\n\\\n",
    "    Energy is {}\\n\\\n",
    "    Dissimilarity is {}\\n\\\n",
    "    Correlation is {}\\n\\\n",
    "    Homogeneity is {}\\n\"\\\n",
    "    .format(ts,us,vs,ws,xs,ys,zs))\n",
    " \n",
    "    # List with file and texture data to append to our output file as a new row\n",
    "    List = [image_name,str(ts)[1:-1],str(us)[1:-1],str(vs)[1:-1],str(ws)[1:-1],str(xs)[1:-1],str(ys)[1:-1],str(zs)[1:-1],int(roi[1]),int(roi[3]),int(roi[0]),int(roi[2]),dr,depth,nodule,mineral,comment] \n",
    "    cv2.destroyWindow('ROI selector')\n",
    "\n",
    "\n",
    "    # Open our existing CSV file in append mode\n",
    "    # Create a file object for this file\n",
    "    \n",
    "    #with open('event.csv', 'a') as f_object:\n",
    "    with open('output.csv', 'a') as f_object:\n",
    "\n",
    "        \n",
    "        # Pass this file object to csv.writer()\n",
    "        # and get a writer object\n",
    "        writer_object = writer(f_object)\n",
    " \n",
    "        # Pass the list as an argument into\n",
    "        # the writerow()\n",
    "        writer_object.writerow(List)\n",
    " \n",
    "        # Close the file object\n",
    "        f_object.close()"
   ]
  },
  {
   "cell_type": "markdown",
   "id": "8dd9933e",
   "metadata": {},
   "source": [
    "The cell below runs the function \"crop_save_texture\" on the content of the irectory 'images'.  \n",
    "\n",
    "\n",
    "\n",
    "\n",
    "The data output from the texture analysis was examined in a Principal Component Analysis (PCA).  The PCA wa run in the statistical computing environment R. "
   ]
  },
  {
   "cell_type": "code",
   "execution_count": null,
   "id": "3ae4f689",
   "metadata": {},
   "outputs": [],
   "source": []
  },
  {
   "cell_type": "code",
   "execution_count": null,
   "id": "78b2744c",
   "metadata": {},
   "outputs": [],
   "source": [
    "### get a list of file names in the directory \"images\" so that the code can run  in a loop on each image in the list\n",
    "dirs=os.listdir(home+'/images/')\n",
    "\n",
    "###Run the function \"crop_save_texture\" defined above.  This will append data to the output.csv file and save a  croped image of the region of interest. \n",
    "for file in dirs:\n",
    "    print(home+'/images/'+file)\n",
    "    print(\"Use the mouse to select an ROI, then press enter or return to save the ROI\")\n",
    "    image=cv2.imread(home+'/images/'+file,cv2.IMREAD_GRAYSCALE)[:,]\n",
    "    crop_save_texture(image, file)\n"
   ]
  },
  {
   "cell_type": "code",
   "execution_count": null,
   "id": "76e81474",
   "metadata": {},
   "outputs": [],
   "source": [
    "%load_ext watermark\n",
    "\n",
    "# python, ipython, packages, and machine characteristics\n",
    "%watermark -v -m -p wget,pandas,numpy,geopy,altair,vega,vega_datasets,watermark \n",
    "\n",
    "# date\n",
    "print (\" \")\n",
    "%watermark -u -n -t -z "
   ]
  },
  {
   "cell_type": "code",
   "execution_count": 3,
   "id": "ec91367c",
   "metadata": {},
   "outputs": [
    {
     "name": "stdout",
     "output_type": "stream",
     "text": [
      "The watermark extension is already loaded. To reload it, use:\n",
      "  %reload_ext watermark\n",
      "CPython 3.6.13\n",
      "IPython 7.16.1\n",
      "\n",
      "cv2 3.4.2\n",
      "csv 1.0\n",
      "os unknown\n",
      "skimage 0.17.2\n",
      "watermark 2.0.2\n",
      "\n",
      "compiler   : GCC 7.5.0\n",
      "system     : Linux\n",
      "release    : 3.10.0-1160.83.1.el7.x86_64\n",
      "machine    : x86_64\n",
      "processor  : x86_64\n",
      "CPU cores  : 4\n",
      "interpreter: 64bit\n",
      " \n",
      "last updated: Sun Apr 09 2023 12:27:30 CEST\n"
     ]
    }
   ],
   "source": [
    "%load_ext watermark\n",
    "\n",
    "# python, ipython, packages, and machine characteristics\n",
    "%watermark -v -m -p cv2,csv,os,skimage,watermark \n",
    "\n",
    "# date\n",
    "print (\" \")\n",
    "%watermark -u -n -t -z "
   ]
  },
  {
   "cell_type": "code",
   "execution_count": null,
   "id": "d82133e4",
   "metadata": {},
   "outputs": [],
   "source": []
  }
 ],
 "metadata": {
  "kernelspec": {
   "display_name": "Python 3",
   "language": "python",
   "name": "python3"
  },
  "language_info": {
   "codemirror_mode": {
    "name": "ipython",
    "version": 3
   },
   "file_extension": ".py",
   "mimetype": "text/x-python",
   "name": "python",
   "nbconvert_exporter": "python",
   "pygments_lexer": "ipython3",
   "version": "3.6.13"
  }
 },
 "nbformat": 4,
 "nbformat_minor": 5
}
